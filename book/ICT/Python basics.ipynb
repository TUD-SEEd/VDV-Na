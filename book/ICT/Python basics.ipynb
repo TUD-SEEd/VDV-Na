{
 "cells": [
  {
   "cell_type": "markdown",
   "id": "d019a74b-fe94-45e7-8593-0f732712dc06",
   "metadata": {},
   "source": [
    "# Python basics\n",
    "In deze opdracht leer je de basis van programmeren in Python met gebruik van Jupyter Notebooks. Je kunt uiteindelijk een plot van data maken. We maken gebruik van Jupyter notebooks. Dit geeft de mogelijkheden zowel tekst, formules ($y=\\frac{a}{x}$) en code te gebruiken. \n",
    "\n",
    "Een notebook bestaat uit verschillende cellen. Code in cellen moet je 'runnen'. Dat doe je door op de playknop links te drukken of met de sneltoets ctrl + enter. Probeer het maar eens uit met de volgende cel."
   ]
  },
  {
   "cell_type": "code",
   "execution_count": null,
   "id": "f6bd6f44-725c-4aa8-9e57-c074775eac37",
   "metadata": {},
   "outputs": [],
   "source": [
    "import numpy as np\n",
    "import matplotlib.pyplot as plt\n",
    "\n",
    "print(\"Hello World!\")"
   ]
  },
  {
   "cell_type": "markdown",
   "id": "3ee230b5-ae24-4c98-9954-c148c0e406cf",
   "metadata": {},
   "source": [
    "Met de code in de eerste twee regels worden zogenaamde libraries ingeladen die we later nodig hebben. Met de laatste regel code print je \"Hello World!\" Een stukje code dat vrijwel altijd als eerst gebruikt wordt wanneer je een nieuwe programmeertaal leert.\n",
    "\n",
    "Uiteindelijk willen we een mooie plot maken van een functie (of van data). Daartoe moeten we eerst iets weten over hoe we kunnen rekenen. \n",
    "\n",
    "* Lees de code in de cel hieronder en voorspel wat de uitkomst zal zijn.\n"
   ]
  },
  {
   "cell_type": "code",
   "execution_count": null,
   "id": "c39ce681-1cc6-451e-a6a0-7ce10a8ae580",
   "metadata": {},
   "outputs": [],
   "source": [
    "a = 2\n",
    "b = 3\n",
    "c = a*b\n",
    "\n",
    "print(a*b)\n",
    "print(a+b)\n",
    "print(c)\n",
    "print(c+a)\n",
    "print(c**a)"
   ]
  },
  {
   "cell_type": "markdown",
   "id": "6a7ffc92-600d-4e10-a0dd-f8c817a0b8da",
   "metadata": {},
   "source": [
    "In de eerste drie regels maken we variabelen aan. Zoals bij regel drie al te zien is, kunnen we wiskundige bewerkingen doen (als het ware letterrekenen). We hebben de volgende operaties: $+, -, /, **,  \\%$. \n",
    "* Probeer elk van die operaties hieronder uit en vind uit wat de operator doet. Eentje is al voorgedaan."
   ]
  },
  {
   "cell_type": "code",
   "execution_count": null,
   "id": "b4d1eff9-ef42-4634-afc9-f726579c43ee",
   "metadata": {},
   "outputs": [],
   "source": [
    "### Jouw code\n",
    "print(b%a)\n"
   ]
  },
  {
   "cell_type": "markdown",
   "id": "7e8fe50d-baf5-476b-b5e6-3eaec83df0b4",
   "metadata": {},
   "source": [
    "We kunnen ook een heel serie getallen aanmaken (array). \n",
    "* Run onderstaande cel en leg uit wat er gebeurt."
   ]
  },
  {
   "cell_type": "code",
   "execution_count": null,
   "id": "c812421c-7482-4719-b3f4-83eff97fe111",
   "metadata": {},
   "outputs": [],
   "source": [
    "rij_1 = np.array([0,1,2,3,4,5,6,7,8,9,10])\n",
    "print(rij_1)\n",
    "print(rij_1*4)\n",
    "print(rij_1**2)"
   ]
  },
  {
   "cell_type": "markdown",
   "id": "3d1fa090-4af0-48df-b55b-2d24f5f6f647",
   "metadata": {},
   "source": [
    "Omdat we nu een rij waarden hebben die kunnen dienen als onafhankelijke variabele, en twee rijen die kunnen dienen als afhankelijke variabelen, kunnen we onze eerste plot maken. (onderstaande code geeft veel gebruikte opties voor plotten, er is nog veel meer mogelijk, zie https://matplotlib.org/stable/api/_as_gen/matplotlib.pyplot.plot.html)"
   ]
  },
  {
   "cell_type": "code",
   "execution_count": null,
   "id": "86029495-9be4-44a2-b135-16150cc7bc22",
   "metadata": {},
   "outputs": [],
   "source": [
    "plt.figure() #aanmaken van de figuur\n",
    "plt.plot(rij_1,rij_1*4, '.', color = 'black')\n",
    "plt.plot(rij_1,rij_1**2,'+', color = 'red')\n",
    "\n",
    "plt.xlabel('onafhankelijke variabele')\n",
    "plt.ylabel('afhankelijke variabele')\n",
    "\n",
    "plt.grid()\n",
    "\n",
    "plt.savefig('Grafiek.jpg',dpi=400)\n",
    "plt.show() #tonen van de figuur"
   ]
  },
  {
   "cell_type": "markdown",
   "id": "0d8f6d36-2269-49d3-b77c-5f806e2fa3e8",
   "metadata": {},
   "source": [
    "Wat wellicht wel duidelijk is, is dat we de eerste rij niet zo handig hebben gemaakt. Wat als we de getallen 0 t/m 100 willen gebruiken? We kunnen functies die in de numpy library opgeslagen zit gebruiken. \n",
    "* Run de cel hier beneden en bekijk welke waarden gemaakt zijn.\n",
    "* Onderzoek waar elk getal voor dient door deze aan te passen, te voorspelen wat er dan uitkomt en te controleren door de cel te runnen."
   ]
  },
  {
   "cell_type": "code",
   "execution_count": null,
   "id": "655408c8-dcf9-49bf-aa76-94bc47abc68b",
   "metadata": {},
   "outputs": [],
   "source": [
    "x = np.arange(0,100,2)\n",
    "y = np.linspace(0,100,101)\n",
    "\n",
    "print(x)\n",
    "print(y)"
   ]
  },
  {
   "cell_type": "markdown",
   "id": "e8369625-9919-4de9-9f9c-5e4969e44fad",
   "metadata": {},
   "source": [
    "Je hebt nu voldoende kennis om een functie te plotten. \n",
    "* Maak een array x van 0 tot 10 met een interval van 0.5\n",
    "* Maak een tweede array y die uitrekent: $0.5*x^2+3*x-0.5$\n",
    "* Maak de grafiek waarbij je y uitzegt tegen x."
   ]
  },
  {
   "cell_type": "code",
   "execution_count": null,
   "id": "0e9d3de3-5c99-40bf-8e70-396d34201d4b",
   "metadata": {},
   "outputs": [],
   "source": [
    "#Jouw code\n",
    "x =\n",
    "y =\n",
    "\n",
    "plt.figure()\n",
    "\n",
    "\n"
   ]
  }
 ],
 "metadata": {
  "kernelspec": {
   "display_name": "Python 3 (ipykernel)",
   "language": "python",
   "name": "python3"
  },
  "language_info": {
   "codemirror_mode": {
    "name": "ipython",
    "version": 3
   },
   "file_extension": ".py",
   "mimetype": "text/x-python",
   "name": "python",
   "nbconvert_exporter": "python",
   "pygments_lexer": "ipython3",
   "version": "3.9.16"
  }
 },
 "nbformat": 4,
 "nbformat_minor": 5
}
